{
 "cells": [
  {
   "cell_type": "markdown",
   "metadata": {},
   "source": [
    "# Módulo 6 tarefa 3\n",
    "\n",
    "#### 1) A base 'sinasc_RO_2019.csv' contém dados do sistema de nascidos vivos do DataSUS, cujo dicionário de dados está no arquivo 'Estrutura_SINASC_para_CD.pdf'. Carregue esse arquivo."
   ]
  },
  {
   "cell_type": "code",
   "execution_count": 1,
   "metadata": {},
   "outputs": [
    {
     "data": {
      "text/plain": [
       "Index(['ORIGEM', 'CODESTAB', 'CODMUNNASC', 'LOCNASC', 'IDADEMAE', 'ESTCIVMAE',\n",
       "       'ESCMAE', 'CODOCUPMAE', 'QTDFILVIVO', 'QTDFILMORT', 'CODMUNRES',\n",
       "       'GESTACAO', 'GRAVIDEZ', 'PARTO', 'CONSULTAS', 'DTNASC', 'HORANASC',\n",
       "       'SEXO', 'APGAR1', 'APGAR5', 'RACACOR', 'PESO', 'IDANOMAL', 'DTCADASTRO',\n",
       "       'CODANOMAL', 'NUMEROLOTE', 'VERSAOSIST', 'DTRECEBIM', 'DIFDATA',\n",
       "       'DTRECORIGA', 'NATURALMAE', 'CODMUNNATU', 'CODUFNATU', 'ESCMAE2010',\n",
       "       'SERIESCMAE', 'DTNASCMAE', 'RACACORMAE', 'QTDGESTANT', 'QTDPARTNOR',\n",
       "       'QTDPARTCES', 'IDADEPAI', 'DTULTMENST', 'SEMAGESTAC', 'TPMETESTIM',\n",
       "       'CONSPRENAT', 'MESPRENAT', 'TPAPRESENT', 'STTRABPART', 'STCESPARTO',\n",
       "       'TPNASCASSI', 'TPFUNCRESP', 'TPDOCRESP', 'DTDECLARAC', 'ESCMAEAGR1',\n",
       "       'STDNEPIDEM', 'STDNNOVA', 'CODPAISRES', 'TPROBSON', 'PARIDADE',\n",
       "       'KOTELCHUCK', 'CONTADOR', 'munResStatus', 'munResTipo', 'munResNome',\n",
       "       'munResUf', 'munResLat', 'munResLon', 'munResAlt', 'munResArea'],\n",
       "      dtype='object')"
      ]
     },
     "execution_count": 1,
     "metadata": {},
     "output_type": "execute_result"
    }
   ],
   "source": [
    "import pandas as pd\n",
    "import matplotlib.pyplot as plt\n",
    "import seaborn as sns\n",
    "%matplotlib inline\n",
    "df = pd.read_csv(\"sinasc_RO_2019.csv\")\n",
    "df.head()\n",
    "df.columns"
   ]
  },
  {
   "cell_type": "markdown",
   "metadata": {},
   "source": [
    "#### 2) Categorize a variável APGAR5 conforme as seguintes quebras:\n",
    "\n",
    "- 0 a 3: 'asfixia grave'\n",
    "- 4 a 5: 'asfixia moderada'\n",
    "- 6 a 7: 'asfixia leve'\n",
    "- 8 a 10: 'normal'"
   ]
  },
  {
   "cell_type": "code",
   "execution_count": 2,
   "metadata": {},
   "outputs": [
    {
     "data": {
      "text/html": [
       "<div>\n",
       "<style scoped>\n",
       "    .dataframe tbody tr th:only-of-type {\n",
       "        vertical-align: middle;\n",
       "    }\n",
       "\n",
       "    .dataframe tbody tr th {\n",
       "        vertical-align: top;\n",
       "    }\n",
       "\n",
       "    .dataframe thead th {\n",
       "        text-align: right;\n",
       "    }\n",
       "</style>\n",
       "<table border=\"1\" class=\"dataframe\">\n",
       "  <thead>\n",
       "    <tr style=\"text-align: right;\">\n",
       "      <th></th>\n",
       "      <th>APGAR5</th>\n",
       "      <th>class_asfixia</th>\n",
       "    </tr>\n",
       "  </thead>\n",
       "  <tbody>\n",
       "    <tr>\n",
       "      <th>0</th>\n",
       "      <td>10.0</td>\n",
       "      <td>normal</td>\n",
       "    </tr>\n",
       "    <tr>\n",
       "      <th>1</th>\n",
       "      <td>9.0</td>\n",
       "      <td>normal</td>\n",
       "    </tr>\n",
       "    <tr>\n",
       "      <th>2</th>\n",
       "      <td>10.0</td>\n",
       "      <td>normal</td>\n",
       "    </tr>\n",
       "    <tr>\n",
       "      <th>3</th>\n",
       "      <td>10.0</td>\n",
       "      <td>normal</td>\n",
       "    </tr>\n",
       "    <tr>\n",
       "      <th>4</th>\n",
       "      <td>10.0</td>\n",
       "      <td>normal</td>\n",
       "    </tr>\n",
       "    <tr>\n",
       "      <th>...</th>\n",
       "      <td>...</td>\n",
       "      <td>...</td>\n",
       "    </tr>\n",
       "    <tr>\n",
       "      <th>27023</th>\n",
       "      <td>9.0</td>\n",
       "      <td>normal</td>\n",
       "    </tr>\n",
       "    <tr>\n",
       "      <th>27024</th>\n",
       "      <td>9.0</td>\n",
       "      <td>normal</td>\n",
       "    </tr>\n",
       "    <tr>\n",
       "      <th>27025</th>\n",
       "      <td>10.0</td>\n",
       "      <td>normal</td>\n",
       "    </tr>\n",
       "    <tr>\n",
       "      <th>27026</th>\n",
       "      <td>9.0</td>\n",
       "      <td>normal</td>\n",
       "    </tr>\n",
       "    <tr>\n",
       "      <th>27027</th>\n",
       "      <td>8.0</td>\n",
       "      <td>normal</td>\n",
       "    </tr>\n",
       "  </tbody>\n",
       "</table>\n",
       "<p>27028 rows × 2 columns</p>\n",
       "</div>"
      ],
      "text/plain": [
       "       APGAR5 class_asfixia\n",
       "0        10.0        normal\n",
       "1         9.0        normal\n",
       "2        10.0        normal\n",
       "3        10.0        normal\n",
       "4        10.0        normal\n",
       "...       ...           ...\n",
       "27023     9.0        normal\n",
       "27024     9.0        normal\n",
       "27025    10.0        normal\n",
       "27026     9.0        normal\n",
       "27027     8.0        normal\n",
       "\n",
       "[27028 rows x 2 columns]"
      ]
     },
     "execution_count": 2,
     "metadata": {},
     "output_type": "execute_result"
    }
   ],
   "source": [
    "df.loc[(df['APGAR5'] >= 0) & (df['APGAR5'] <= 3), 'class_asfixia'] = 'asfixia grave'\n",
    "df.loc[(df['APGAR5'] >= 4) & (df['APGAR5'] <= 5), 'class_asfixia'] = 'asfixia moderada'\n",
    "df.loc[(df['APGAR5'] >= 6) & (df['APGAR5'] <= 7), 'class_asfixia'] = 'asfixia leve'\n",
    "df.loc[(df['APGAR5'] >= 8) & (df['APGAR5'] <= 10), 'class_asfixia'] = 'normal'\n",
    "df[['APGAR5','class_asfixia']]"
   ]
  },
  {
   "cell_type": "markdown",
   "metadata": {},
   "source": [
    "#### 3) Monte um gráfico comparando a distribuição de APGAR5 por sexo para cada grupo de tempo de gestação (GESTACAO)."
   ]
  },
  {
   "cell_type": "code",
   "execution_count": 3,
   "metadata": {},
   "outputs": [
    {
     "data": {
      "text/plain": [
       "<seaborn.axisgrid.FacetGrid at 0x7f42f030db80>"
      ]
     },
     "execution_count": 3,
     "metadata": {},
     "output_type": "execute_result"
    },
    {
     "data": {
      "image/png": "[encoded data removed]",
      "text/plain": [
       "<Figure size 507.875x360 with 1 Axes>"
      ]
     },
     "metadata": {
      "needs_background": "light"
     },
     "output_type": "display_data"
    }
   ],
   "source": [
    "sns.catplot(x='SEXO', y='APGAR5'\n",
    "            , hue = 'GESTACAO'\n",
    "            , kind='bar'\n",
    "            , estimator = sum\n",
    "            , ci = None\n",
    "            ,data=df\n",
    "           )\n"
   ]
  },
  {
   "cell_type": "markdown",
   "metadata": {},
   "source": [
    "####  4) Monte uma tabela cruzada com APGAR5 nas colunas e GESTACAO nas linhas"
   ]
  },
  {
   "cell_type": "code",
   "execution_count": 4,
   "metadata": {},
   "outputs": [
    {
     "data": {
      "image/png": "[encoded data removed]",
      "text/plain": [
       "<Figure size 432x288 with 1 Axes>"
      ]
     },
     "metadata": {
      "needs_background": "light"
     },
     "output_type": "display_data"
    }
   ],
   "source": [
    "plt.close('all')\n",
    "fig, ax = plt.subplots()\n",
    "sns.countplot(ax=ax, x='GESTACAO'\n",
    "              , hue = 'APGAR5'\n",
    "              , data=df\n",
    "             )\n",
    "ax.tick_params(axis=\"x\", rotation=30)\n"
   ]
  },
  {
   "cell_type": "markdown",
   "metadata": {},
   "source": [
    "####  5) Da tabela cruzada do intem anterior, calcule os percentuais de linha. Ou seja, a distribuição da variável APGAR5 para cada classe de GESTACAO dado."
   ]
  },
  {
   "cell_type": "code",
   "execution_count": 13,
   "metadata": {},
   "outputs": [
    {
     "name": "stdout",
     "output_type": "stream",
     "text": [
      "APGAR5               0.0   1.0   2.0   3.0   4.0   5.0   6.0   7.0   8.0   \\\n",
      "GESTACAO                                                                    \n",
      "22 a 27 semanas         7     0     8     6     1     0     2    10    24   \n",
      "28 a 31 semanas         0     0     2     1     5     7     7    11    61   \n",
      "32 a 36 semanas         2     2     2     2     8    11    17    56   362   \n",
      "37 a 41 semanas         5    20     3     5     7    21    45   151  1417   \n",
      "42 semanas e mais       1     0     0     0     0     1     1     5    44   \n",
      "Menos de 22 semanas     1     0     1     0     0     0     0     1     0   \n",
      "\n",
      "APGAR5                9.0   10.0  \n",
      "GESTACAO                          \n",
      "22 a 27 semanas         19     8  \n",
      "28 a 31 semanas         55    13  \n",
      "32 a 36 semanas       1307   465  \n",
      "37 a 41 semanas      13565  7284  \n",
      "42 semanas e mais      423   223  \n",
      "Menos de 22 semanas      3     1  \n",
      "GESTACAO\n",
      "22 a 27 semanas           85\n",
      "28 a 31 semanas          162\n",
      "32 a 36 semanas         2234\n",
      "37 a 41 semanas        22523\n",
      "42 semanas e mais        698\n",
      "Menos de 22 semanas        7\n",
      "dtype: int64\n",
      "APGAR5                   0.0       1.0       2.0       3.0       4.0   \\\n",
      "GESTACAO                                                                \n",
      "22 a 27 semanas      0.082353  0.000000  0.094118  0.070588  0.011765   \n",
      "28 a 31 semanas      0.000000  0.000000  0.012346  0.006173  0.030864   \n",
      "32 a 36 semanas      0.000895  0.000895  0.000895  0.000895  0.003581   \n",
      "37 a 41 semanas      0.000222  0.000888  0.000133  0.000222  0.000311   \n",
      "42 semanas e mais    0.001433  0.000000  0.000000  0.000000  0.000000   \n",
      "Menos de 22 semanas  0.142857  0.000000  0.142857  0.000000  0.000000   \n",
      "\n",
      "APGAR5                   5.0       6.0       7.0       8.0       9.0   \\\n",
      "GESTACAO                                                                \n",
      "22 a 27 semanas      0.000000  0.023529  0.117647  0.282353  0.223529   \n",
      "28 a 31 semanas      0.043210  0.043210  0.067901  0.376543  0.339506   \n",
      "32 a 36 semanas      0.004924  0.007610  0.025067  0.162041  0.585049   \n",
      "37 a 41 semanas      0.000932  0.001998  0.006704  0.062913  0.602273   \n",
      "42 semanas e mais    0.001433  0.001433  0.007163  0.063037  0.606017   \n",
      "Menos de 22 semanas  0.000000  0.000000  0.142857  0.000000  0.428571   \n",
      "\n",
      "APGAR5                   10.0  \n",
      "GESTACAO                       \n",
      "22 a 27 semanas      0.094118  \n",
      "28 a 31 semanas      0.080247  \n",
      "32 a 36 semanas      0.208147  \n",
      "37 a 41 semanas      0.323403  \n",
      "42 semanas e mais    0.319484  \n",
      "Menos de 22 semanas  0.142857  \n"
     ]
    }
   ],
   "source": [
    "freq = pd.crosstab(df['GESTACAO'],df['APGAR5'])\n",
    "print(freq)\n",
    "print(freq.sum(1))\n",
    "freq_pctlin = freq.div(freq.sum(axis = 1), axis = 0)\n",
    "print(freq_pctlin)"
   ]
  },
  {
   "cell_type": "markdown",
   "metadata": {},
   "source": [
    "####  6) Os médicos costumam classificar parto prematuro quando a gestação tem menos que 37 semanas. Faça um gráfico de barras da tabela cruzada acima e conclua se você acha que este conjunto de dados corrobora ou não com a afirmação dos médicos."
   ]
  },
  {
   "cell_type": "code",
   "execution_count": 14,
   "metadata": {},
   "outputs": [
    {
     "data": {
      "text/plain": [
       "<AxesSubplot:xlabel='GESTACAO'>"
      ]
     },
     "execution_count": 14,
     "metadata": {},
     "output_type": "execute_result"
    },
    {
     "data": {
      "image/png": "[encoded data removed]",
      "text/plain": [
       "<Figure size 432x288 with 1 Axes>"
      ]
     },
     "metadata": {
      "needs_background": "light"
     },
     "output_type": "display_data"
    }
   ],
   "source": [
    "freq_pctlin.plot.bar()"
   ]
  },
  {
   "cell_type": "code",
   "execution_count": null,
   "metadata": {},
   "outputs": [],
   "source": [
    "#Sim corrobora com a visão dos médicos, pois nesse caso a maioria dos valores do APGAR5 fica abaixo de 8, valor considerado normal"
   ]
  },
  {
   "cell_type": "markdown",
   "metadata": {},
   "source": [
    "#### 7) Veja se há relação entre APGAR5 e o peso do bebê. Isso pode ser feito de diversas formas. Fique à vontade para escolher a melhor maneira na sua opinião, ou até testar mais de um dos gráficos que vimos. Fique à vontade também para consultar a documentação e utilizar algum outro recurso se achar conveniente."
   ]
  },
  {
   "cell_type": "code",
   "execution_count": 26,
   "metadata": {},
   "outputs": [
    {
     "name": "stdout",
     "output_type": "stream",
     "text": [
      "0.25    2965.0\n",
      "0.50    3270.0\n",
      "0.75    3575.0\n",
      "Name: PESO, dtype: float64\n",
      "       PESO            class_peso\n",
      "0      3685  muito acima da média\n",
      "1      3055  peso abaixo da média\n",
      "2      3460   peso acima da média\n",
      "3      2982  peso abaixo da média\n",
      "4      3310   peso acima da média\n",
      "...     ...                   ...\n",
      "27023  2110          muito abaixo\n",
      "27024  3310   peso acima da média\n",
      "27025  3065  peso abaixo da média\n",
      "27026  2352          muito abaixo\n",
      "27027  4240  muito acima da média\n",
      "\n",
      "[27028 rows x 2 columns]\n",
      "class_peso  muito abaixo  muito acima da média  peso abaixo da média  \\\n",
      "APGAR5                                                                 \n",
      "0.0                   12                     1                     3   \n",
      "1.0                    9                     6                     3   \n",
      "2.0                   15                     3                     0   \n",
      "3.0                   11                     1                     2   \n",
      "4.0                   16                     1                     3   \n",
      "5.0                   25                     7                     5   \n",
      "6.0                   35                    17                    14   \n",
      "7.0                  108                    46                    49   \n",
      "8.0                  760                   454                   385   \n",
      "9.0                 3969                  4161                  3975   \n",
      "10.0                1787                  2032                  2279   \n",
      "\n",
      "class_peso  peso acima da média  \n",
      "APGAR5                           \n",
      "0.0                           1  \n",
      "1.0                           6  \n",
      "2.0                           0  \n",
      "3.0                           1  \n",
      "4.0                           3  \n",
      "5.0                           8  \n",
      "6.0                          13  \n",
      "7.0                          38  \n",
      "8.0                         395  \n",
      "9.0                        3971  \n",
      "10.0                       2295  \n",
      "APGAR5\n",
      "0.0        17\n",
      "1.0        24\n",
      "2.0        18\n",
      "3.0        15\n",
      "4.0        23\n",
      "5.0        45\n",
      "6.0        79\n",
      "7.0       241\n",
      "8.0      1994\n",
      "9.0     16076\n",
      "10.0     8393\n",
      "dtype: int64\n",
      "class_peso  muito abaixo  muito acima da média  peso abaixo da média  \\\n",
      "APGAR5                                                                 \n",
      "0.0             0.705882              0.058824              0.176471   \n",
      "1.0             0.375000              0.250000              0.125000   \n",
      "2.0             0.833333              0.166667              0.000000   \n",
      "3.0             0.733333              0.066667              0.133333   \n",
      "4.0             0.695652              0.043478              0.130435   \n",
      "5.0             0.555556              0.155556              0.111111   \n",
      "6.0             0.443038              0.215190              0.177215   \n",
      "7.0             0.448133              0.190871              0.203320   \n",
      "8.0             0.381143              0.227683              0.193079   \n",
      "9.0             0.246890              0.258833              0.247263   \n",
      "10.0            0.212916              0.242107              0.271536   \n",
      "\n",
      "class_peso  peso acima da média  \n",
      "APGAR5                           \n",
      "0.0                    0.058824  \n",
      "1.0                    0.250000  \n",
      "2.0                    0.000000  \n",
      "3.0                    0.066667  \n",
      "4.0                    0.130435  \n",
      "5.0                    0.177778  \n",
      "6.0                    0.164557  \n",
      "7.0                    0.157676  \n",
      "8.0                    0.198094  \n",
      "9.0                    0.247014  \n",
      "10.0                   0.273442  \n"
     ]
    },
    {
     "data": {
      "text/plain": [
       "<AxesSubplot:xlabel='APGAR5'>"
      ]
     },
     "execution_count": 26,
     "metadata": {},
     "output_type": "execute_result"
    },
    {
     "data": {
      "image/png": "[encoded data removed]",
      "text/plain": [
       "<Figure size 432x288 with 1 Axes>"
      ]
     },
     "metadata": {
      "needs_background": "light"
     },
     "output_type": "display_data"
    }
   ],
   "source": [
    "#descobrindo os quartis para categorizar em faixas de peso\n",
    "print(df['PESO'].quantile([0.25,0.5,0.75]))\n",
    "p1=2965.0\n",
    "p2=3270.0\n",
    "p3=3575.0\n",
    "#categorizando\n",
    "df.loc[(df['PESO'] <= p1), 'class_peso'] = 'muito abaixo'\n",
    "df.loc[(df['PESO'] > p1) & (df['PESO'] <= p2), 'class_peso'] = 'peso abaixo da média'\n",
    "df.loc[(df['PESO'] > p2) & (df['PESO'] <=p3), 'class_peso'] = 'peso acima da média'\n",
    "df.loc[(df['PESO'] > p3), 'class_peso'] = 'muito acima da média'\n",
    "print(df[['PESO','class_peso']])\n",
    "#agora plotar class_peso x apgar5\n",
    "freq_peso = pd.crosstab(df['APGAR5'],df['class_peso'])\n",
    "print(freq_peso)\n",
    "print(freq_peso.sum(1))\n",
    "freq_pctlin_peso = freq_peso.div(freq_peso.sum(axis = 1), axis = 0)\n",
    "print(freq_pctlin_peso)\n",
    "freq_pctlin_peso.plot.bar()"
   ]
  },
  {
   "cell_type": "code",
   "execution_count": null,
   "metadata": {},
   "outputs": [],
   "source": [
    "#como se percebe para oa valores APGAR5 abaixo de 8, prevalecem o peso abaixo da média"
   ]
  }
 ],
 "metadata": {
  "kernelspec": {
   "display_name": "Python 3 (ipykernel)",
   "language": "python",
   "name": "python3"
  },
  "language_info": {
   "codemirror_mode": {
    "name": "ipython",
    "version": 3
   },
   "file_extension": ".py",
   "mimetype": "text/x-python",
   "name": "python",
   "nbconvert_exporter": "python",
   "pygments_lexer": "ipython3",
   "version": "3.8.10"
  }
 },
 "nbformat": 4,
 "nbformat_minor": 4
}
